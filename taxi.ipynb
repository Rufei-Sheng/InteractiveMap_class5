{
 "cells": [
  {
   "cell_type": "code",
   "execution_count": 39,
   "metadata": {},
   "outputs": [],
   "source": [
    "import pandas as pd\n",
    "import geopandas as gpd\n",
    "import random\n",
    "import geojson"
   ]
  },
  {
   "cell_type": "code",
   "execution_count": 3,
   "metadata": {},
   "outputs": [],
   "source": [
    "taxi = gpd.read_file('data/NYC_Taxi_Zones.geojson')"
   ]
  },
  {
   "cell_type": "code",
   "execution_count": 19,
   "metadata": {
    "scrolled": true
   },
   "outputs": [
    {
     "data": {
      "text/html": [
       "<div>\n",
       "<style scoped>\n",
       "    .dataframe tbody tr th:only-of-type {\n",
       "        vertical-align: middle;\n",
       "    }\n",
       "\n",
       "    .dataframe tbody tr th {\n",
       "        vertical-align: top;\n",
       "    }\n",
       "\n",
       "    .dataframe thead th {\n",
       "        text-align: right;\n",
       "    }\n",
       "</style>\n",
       "<table border=\"1\" class=\"dataframe\">\n",
       "  <thead>\n",
       "    <tr style=\"text-align: right;\">\n",
       "      <th></th>\n",
       "      <th>shape_area</th>\n",
       "      <th>objectid</th>\n",
       "      <th>shape_leng</th>\n",
       "      <th>location_id</th>\n",
       "      <th>zone</th>\n",
       "      <th>borough</th>\n",
       "      <th>geometry</th>\n",
       "      <th>Public Transit</th>\n",
       "    </tr>\n",
       "  </thead>\n",
       "  <tbody>\n",
       "    <tr>\n",
       "      <th>258</th>\n",
       "      <td>0.000168611097013</td>\n",
       "      <td>256</td>\n",
       "      <td>0.0679149669603</td>\n",
       "      <td>256</td>\n",
       "      <td>Williamsburg (South Side)</td>\n",
       "      <td>Brooklyn</td>\n",
       "      <td>(POLYGON ((-73.95834207500002 40.7133063009999...</td>\n",
       "      <td>0.83</td>\n",
       "    </tr>\n",
       "    <tr>\n",
       "      <th>259</th>\n",
       "      <td>0.000394552487366</td>\n",
       "      <td>259</td>\n",
       "      <td>0.126750305191</td>\n",
       "      <td>259</td>\n",
       "      <td>Woodlawn/Wakefield</td>\n",
       "      <td>Bronx</td>\n",
       "      <td>(POLYGON ((-73.85107116191898 40.9103715201109...</td>\n",
       "      <td>0.83</td>\n",
       "    </tr>\n",
       "    <tr>\n",
       "      <th>260</th>\n",
       "      <td>0.000422345326907</td>\n",
       "      <td>260</td>\n",
       "      <td>0.133514154636</td>\n",
       "      <td>260</td>\n",
       "      <td>Woodside</td>\n",
       "      <td>Queens</td>\n",
       "      <td>(POLYGON ((-73.90175373399988 40.7607754749999...</td>\n",
       "      <td>0.83</td>\n",
       "    </tr>\n",
       "    <tr>\n",
       "      <th>261</th>\n",
       "      <td>0.0000343423231652</td>\n",
       "      <td>261</td>\n",
       "      <td>0.0271204563616</td>\n",
       "      <td>261</td>\n",
       "      <td>World Trade Center</td>\n",
       "      <td>Manhattan</td>\n",
       "      <td>(POLYGON ((-74.01332610899988 40.7050307879999...</td>\n",
       "      <td>0.83</td>\n",
       "    </tr>\n",
       "    <tr>\n",
       "      <th>262</th>\n",
       "      <td>0.000122330270966</td>\n",
       "      <td>262</td>\n",
       "      <td>0.0490636231541</td>\n",
       "      <td>262</td>\n",
       "      <td>Yorkville East</td>\n",
       "      <td>Manhattan</td>\n",
       "      <td>(POLYGON ((-73.94383256699986 40.7828590889999...</td>\n",
       "      <td>0.83</td>\n",
       "    </tr>\n",
       "  </tbody>\n",
       "</table>\n",
       "</div>"
      ],
      "text/plain": [
       "             shape_area objectid       shape_leng location_id  \\\n",
       "258   0.000168611097013      256  0.0679149669603         256   \n",
       "259   0.000394552487366      259   0.126750305191         259   \n",
       "260   0.000422345326907      260   0.133514154636         260   \n",
       "261  0.0000343423231652      261  0.0271204563616         261   \n",
       "262   0.000122330270966      262  0.0490636231541         262   \n",
       "\n",
       "                          zone    borough  \\\n",
       "258  Williamsburg (South Side)   Brooklyn   \n",
       "259         Woodlawn/Wakefield      Bronx   \n",
       "260                   Woodside     Queens   \n",
       "261         World Trade Center  Manhattan   \n",
       "262             Yorkville East  Manhattan   \n",
       "\n",
       "                                              geometry  Public Transit  \n",
       "258  (POLYGON ((-73.95834207500002 40.7133063009999...            0.83  \n",
       "259  (POLYGON ((-73.85107116191898 40.9103715201109...            0.83  \n",
       "260  (POLYGON ((-73.90175373399988 40.7607754749999...            0.83  \n",
       "261  (POLYGON ((-74.01332610899988 40.7050307879999...            0.83  \n",
       "262  (POLYGON ((-73.94383256699986 40.7828590889999...            0.83  "
      ]
     },
     "execution_count": 19,
     "metadata": {},
     "output_type": "execute_result"
    }
   ],
   "source": [
    "taxi.tail()"
   ]
  },
  {
   "cell_type": "code",
   "execution_count": 16,
   "metadata": {},
   "outputs": [
    {
     "data": {
      "text/plain": [
       "0.11"
      ]
     },
     "execution_count": 16,
     "metadata": {},
     "output_type": "execute_result"
    }
   ],
   "source": [
    "round(random.uniform(0,1),2)"
   ]
  },
  {
   "cell_type": "code",
   "execution_count": 17,
   "metadata": {},
   "outputs": [
    {
     "data": {
      "text/plain": [
       "0.28"
      ]
     },
     "execution_count": 17,
     "metadata": {},
     "output_type": "execute_result"
    }
   ],
   "source": [
    "round(random.uniform(0,1),2)"
   ]
  },
  {
   "cell_type": "code",
   "execution_count": 34,
   "metadata": {},
   "outputs": [],
   "source": [
    "taxi['Public Transit'] = 1\n",
    "taxi['Public Transit'] = taxi['Public Transit'].map(lambda x: round(random.uniform(0.1,0.5),2))\n",
    "taxi['Taxi'] = 1\n",
    "taxi['Taxi'] = taxi['Taxi'].map(lambda x: round(random.uniform(0.1,0.5),2))\n",
    "taxi['Others'] = 1\n",
    "taxi['Others'] = 1-taxi['Public Transit']-taxi['Taxi']\n",
    "taxi['Top choice'] = taxi[['Public Transit', 'Taxi', 'Others']].idxmax(axis=1)"
   ]
  },
  {
   "cell_type": "code",
   "execution_count": 36,
   "metadata": {},
   "outputs": [
    {
     "data": {
      "text/plain": [
       "geopandas.geodataframe.GeoDataFrame"
      ]
     },
     "execution_count": 36,
     "metadata": {},
     "output_type": "execute_result"
    }
   ],
   "source": [
    "type(taxi)"
   ]
  },
  {
   "cell_type": "code",
   "execution_count": 37,
   "metadata": {},
   "outputs": [
    {
     "data": {
      "text/html": [
       "<div>\n",
       "<style scoped>\n",
       "    .dataframe tbody tr th:only-of-type {\n",
       "        vertical-align: middle;\n",
       "    }\n",
       "\n",
       "    .dataframe tbody tr th {\n",
       "        vertical-align: top;\n",
       "    }\n",
       "\n",
       "    .dataframe thead th {\n",
       "        text-align: right;\n",
       "    }\n",
       "</style>\n",
       "<table border=\"1\" class=\"dataframe\">\n",
       "  <thead>\n",
       "    <tr style=\"text-align: right;\">\n",
       "      <th></th>\n",
       "      <th>shape_area</th>\n",
       "      <th>objectid</th>\n",
       "      <th>shape_leng</th>\n",
       "      <th>location_id</th>\n",
       "      <th>zone</th>\n",
       "      <th>borough</th>\n",
       "      <th>geometry</th>\n",
       "      <th>Public Transit</th>\n",
       "      <th>Taxi</th>\n",
       "      <th>Others</th>\n",
       "      <th>Top choice</th>\n",
       "    </tr>\n",
       "  </thead>\n",
       "  <tbody>\n",
       "    <tr>\n",
       "      <th>0</th>\n",
       "      <td>0.0007823067885</td>\n",
       "      <td>1</td>\n",
       "      <td>0.116357453189</td>\n",
       "      <td>1</td>\n",
       "      <td>Newark Airport</td>\n",
       "      <td>EWR</td>\n",
       "      <td>(POLYGON ((-74.18445299999996 40.6949959999999...</td>\n",
       "      <td>0.44</td>\n",
       "      <td>0.23</td>\n",
       "      <td>0.33</td>\n",
       "      <td>Public Transit</td>\n",
       "    </tr>\n",
       "    <tr>\n",
       "      <th>1</th>\n",
       "      <td>0.00486634037837</td>\n",
       "      <td>2</td>\n",
       "      <td>0.43346966679</td>\n",
       "      <td>2</td>\n",
       "      <td>Jamaica Bay</td>\n",
       "      <td>Queens</td>\n",
       "      <td>(POLYGON ((-73.82337597260663 40.6389870471767...</td>\n",
       "      <td>0.47</td>\n",
       "      <td>0.36</td>\n",
       "      <td>0.17</td>\n",
       "      <td>Public Transit</td>\n",
       "    </tr>\n",
       "    <tr>\n",
       "      <th>2</th>\n",
       "      <td>0.000314414156821</td>\n",
       "      <td>3</td>\n",
       "      <td>0.0843411059012</td>\n",
       "      <td>3</td>\n",
       "      <td>Allerton/Pelham Gardens</td>\n",
       "      <td>Bronx</td>\n",
       "      <td>(POLYGON ((-73.84792614099985 40.8713422339999...</td>\n",
       "      <td>0.19</td>\n",
       "      <td>0.34</td>\n",
       "      <td>0.47</td>\n",
       "      <td>Others</td>\n",
       "    </tr>\n",
       "    <tr>\n",
       "      <th>3</th>\n",
       "      <td>0.000111871946192</td>\n",
       "      <td>4</td>\n",
       "      <td>0.0435665270921</td>\n",
       "      <td>4</td>\n",
       "      <td>Alphabet City</td>\n",
       "      <td>Manhattan</td>\n",
       "      <td>(POLYGON ((-73.97177410965318 40.7258212813370...</td>\n",
       "      <td>0.32</td>\n",
       "      <td>0.34</td>\n",
       "      <td>0.34</td>\n",
       "      <td>Taxi</td>\n",
       "    </tr>\n",
       "    <tr>\n",
       "      <th>4</th>\n",
       "      <td>0.000497957489363</td>\n",
       "      <td>5</td>\n",
       "      <td>0.0921464898574</td>\n",
       "      <td>5</td>\n",
       "      <td>Arden Heights</td>\n",
       "      <td>Staten Island</td>\n",
       "      <td>(POLYGON ((-74.17421738099989 40.5625680859999...</td>\n",
       "      <td>0.26</td>\n",
       "      <td>0.49</td>\n",
       "      <td>0.25</td>\n",
       "      <td>Taxi</td>\n",
       "    </tr>\n",
       "  </tbody>\n",
       "</table>\n",
       "</div>"
      ],
      "text/plain": [
       "          shape_area objectid       shape_leng location_id  \\\n",
       "0    0.0007823067885        1   0.116357453189           1   \n",
       "1   0.00486634037837        2    0.43346966679           2   \n",
       "2  0.000314414156821        3  0.0843411059012           3   \n",
       "3  0.000111871946192        4  0.0435665270921           4   \n",
       "4  0.000497957489363        5  0.0921464898574           5   \n",
       "\n",
       "                      zone        borough  \\\n",
       "0           Newark Airport            EWR   \n",
       "1              Jamaica Bay         Queens   \n",
       "2  Allerton/Pelham Gardens          Bronx   \n",
       "3            Alphabet City      Manhattan   \n",
       "4            Arden Heights  Staten Island   \n",
       "\n",
       "                                            geometry  Public Transit  Taxi  \\\n",
       "0  (POLYGON ((-74.18445299999996 40.6949959999999...            0.44  0.23   \n",
       "1  (POLYGON ((-73.82337597260663 40.6389870471767...            0.47  0.36   \n",
       "2  (POLYGON ((-73.84792614099985 40.8713422339999...            0.19  0.34   \n",
       "3  (POLYGON ((-73.97177410965318 40.7258212813370...            0.32  0.34   \n",
       "4  (POLYGON ((-74.17421738099989 40.5625680859999...            0.26  0.49   \n",
       "\n",
       "   Others      Top choice  \n",
       "0    0.33  Public Transit  \n",
       "1    0.17  Public Transit  \n",
       "2    0.47          Others  \n",
       "3    0.34            Taxi  \n",
       "4    0.25            Taxi  "
      ]
     },
     "execution_count": 37,
     "metadata": {},
     "output_type": "execute_result"
    }
   ],
   "source": [
    "taxi.head()"
   ]
  },
  {
   "cell_type": "code",
   "execution_count": 45,
   "metadata": {},
   "outputs": [],
   "source": [
    "def data2geojson(df):\n",
    "    features = []\n",
    "    insert_features = lambda X: features.append(\n",
    "            geojson.Feature(properties=dict(objectid=X[\"objectid\"],\n",
    "                                            shape_area=X[\"shape_area\"],\n",
    "                                            shape_leng=X[\"shape_leng\"],\n",
    "                                            zone=X[\"zone\"],\n",
    "                                            borough=X[\"borough\"],\n",
    "                                            Public_Transit=X[\"Public Transit\"],\n",
    "                                            Taxi=X[\"Taxi\"],\n",
    "                                            Others=X[\"Others\"],\n",
    "                                            Top_choice=X[\"Top choice\"]),\n",
    "                            geometry=(X[\"geometry\"])))\n",
    "    df.apply(insert_features, axis=1)\n",
    "    with open('NYC_transportationChoice.geojson', 'w', encoding='utf8') as fp:\n",
    "        geojson.dump(geojson.FeatureCollection(features), fp, sort_keys=True, ensure_ascii=False)\n",
    "\n",
    "# col = ['lat','long','elev','name','description']\n",
    "# data = [[-29.9953,-70.5867,760,'A','Place ñ'],\n",
    "#         [-30.1217,-70.4933,1250,'B','Place b'],\n",
    "#         [-30.0953,-70.5008,1185,'C','Place c']]\n",
    "\n",
    "# df = pd.DataFrame(data, columns=col)\n",
    "data2geojson(taxi)"
   ]
  },
  {
   "cell_type": "code",
   "execution_count": null,
   "metadata": {},
   "outputs": [],
   "source": []
  }
 ],
 "metadata": {
  "kernelspec": {
   "display_name": "Python 3",
   "language": "python",
   "name": "python3"
  },
  "language_info": {
   "codemirror_mode": {
    "name": "ipython",
    "version": 3
   },
   "file_extension": ".py",
   "mimetype": "text/x-python",
   "name": "python",
   "nbconvert_exporter": "python",
   "pygments_lexer": "ipython3",
   "version": "3.7.1"
  }
 },
 "nbformat": 4,
 "nbformat_minor": 2
}
